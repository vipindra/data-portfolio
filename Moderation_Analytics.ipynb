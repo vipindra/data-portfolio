{
 "cells": [
  {
   "cell_type": "markdown",
   "id": "46380799",
   "metadata": {},
   "source": [
    "# Moderation & Knowledge Tagging\n",
    "*Prepared: 2025-08-19*\n",
    "\n",
    "Measure queue health, SLA performance, and tagging coverage to improve member experience."
   ]
  },
  {
   "cell_type": "markdown",
   "id": "b2f4bd77",
   "metadata": {},
   "source": [
    "## 1. Load Data"
   ]
  },
  {
   "cell_type": "code",
   "execution_count": null,
   "id": "8b9fdf17",
   "metadata": {},
   "outputs": [],
   "source": [
    "\n",
    "import pandas as pd\n",
    "import matplotlib.pyplot as plt\n",
    "\n",
    "posts = pd.read_csv('posts.csv', parse_dates=['created_at'])\n",
    "modq = pd.read_csv('moderation_queue.csv')\n",
    "sla = pd.read_csv('sla.csv')\n",
    "\n",
    "posts.head()\n"
   ]
  },
  {
   "cell_type": "markdown",
   "id": "63380180",
   "metadata": {},
   "source": [
    "## 2. Queue Status Distribution"
   ]
  },
  {
   "cell_type": "code",
   "execution_count": null,
   "id": "188d7628",
   "metadata": {},
   "outputs": [],
   "source": [
    "\n",
    "status_dist = modq['status'].value_counts()\n",
    "status_dist\n"
   ]
  },
  {
   "cell_type": "code",
   "execution_count": null,
   "id": "5c79cdd5",
   "metadata": {},
   "outputs": [],
   "source": [
    "\n",
    "plt.figure()\n",
    "status_dist.plot(kind='bar', title='Moderation Queue Status Distribution')\n",
    "plt.xlabel('Status')\n",
    "plt.ylabel('Items')\n",
    "plt.show()\n"
   ]
  },
  {
   "cell_type": "markdown",
   "id": "0c2fe877",
   "metadata": {},
   "source": [
    "## 3. SLA by Topic"
   ]
  },
  {
   "cell_type": "code",
   "execution_count": null,
   "id": "2cb5c629",
   "metadata": {},
   "outputs": [],
   "source": [
    "\n",
    "data = posts.merge(sla, on='post_id', how='inner')\n",
    "sla_topic = data.groupby('topic')[['first_response_minutes','resolution_minutes']].mean().sort_values('resolution_minutes')\n",
    "sla_topic\n"
   ]
  },
  {
   "cell_type": "code",
   "execution_count": null,
   "id": "627b667e",
   "metadata": {},
   "outputs": [],
   "source": [
    "\n",
    "plt.figure()\n",
    "sla_topic['resolution_minutes'].plot(kind='bar', title='Avg Resolution Time by Topic (mins)')\n",
    "plt.xlabel('Topic')\n",
    "plt.ylabel('Minutes')\n",
    "plt.show()\n"
   ]
  },
  {
   "cell_type": "markdown",
   "id": "294d950c",
   "metadata": {},
   "source": [
    "## 4. Tagging & Engagement"
   ]
  },
  {
   "cell_type": "code",
   "execution_count": null,
   "id": "89900685",
   "metadata": {},
   "outputs": [],
   "source": [
    "\n",
    "tags = posts.groupby('tag_primary')[['responses','likes']].mean().sort_values('likes', ascending=False)\n",
    "tags\n"
   ]
  },
  {
   "cell_type": "code",
   "execution_count": null,
   "id": "5c2f2d76",
   "metadata": {},
   "outputs": [],
   "source": [
    "\n",
    "plt.figure()\n",
    "tags['likes'].plot(kind='bar', title='Avg Likes by Primary Tag')\n",
    "plt.xlabel('Primary Tag')\n",
    "plt.ylabel('Avg Likes')\n",
    "plt.show()\n"
   ]
  },
  {
   "cell_type": "markdown",
   "id": "80aeb53f",
   "metadata": {},
   "source": [
    "## 5. Moderator Workload"
   ]
  },
  {
   "cell_type": "code",
   "execution_count": null,
   "id": "8260b98f",
   "metadata": {},
   "outputs": [],
   "source": [
    "\n",
    "work = modq[modq['status'].isin(['reviewed','actioned'])].groupby('assigned_to').size().sort_values(ascending=False)\n",
    "work\n"
   ]
  },
  {
   "cell_type": "code",
   "execution_count": null,
   "id": "b457cc25",
   "metadata": {},
   "outputs": [],
   "source": [
    "\n",
    "plt.figure()\n",
    "work.plot(kind='bar', title='Moderator Workload (Reviewed/Actioned)')\n",
    "plt.xlabel('Moderator')\n",
    "plt.ylabel('Items')\n",
    "plt.show()\n"
   ]
  }
 ],
 "metadata": {},
 "nbformat": 4,
 "nbformat_minor": 5
}
