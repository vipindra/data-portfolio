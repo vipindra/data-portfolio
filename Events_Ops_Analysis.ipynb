{
 "cells": [
  {
   "cell_type": "markdown",
   "id": "9ed98042",
   "metadata": {},
   "source": [
    "# Events & Program Operations\n",
    "*Prepared: 2025-08-19*\n",
    "\n",
    "Analyze event attendance, NPS, challenge conversions, course completion, and top contributors."
   ]
  },
  {
   "cell_type": "markdown",
   "id": "9f940858",
   "metadata": {},
   "source": [
    "## 1. Load Data"
   ]
  },
  {
   "cell_type": "code",
   "execution_count": null,
   "id": "818d6282",
   "metadata": {},
   "outputs": [],
   "source": [
    "\n",
    "import pandas as pd\n",
    "import matplotlib.pyplot as plt\n",
    "\n",
    "xls = pd.ExcelFile('events_programs_ops.xlsx')\n",
    "events = pd.read_excel(xls, 'events')\n",
    "challenges = pd.read_excel(xls, 'challenges')\n",
    "courses = pd.read_excel(xls, 'academy_courses')\n",
    "contributors = pd.read_excel(xls, 'contributors')\n",
    "\n",
    "events.head()\n"
   ]
  },
  {
   "cell_type": "markdown",
   "id": "41387d3f",
   "metadata": {},
   "source": [
    "## 2. Attendance by Event Type"
   ]
  },
  {
   "cell_type": "code",
   "execution_count": null,
   "id": "76f2b71a",
   "metadata": {},
   "outputs": [],
   "source": [
    "\n",
    "att = events.groupby('type')['attendance_rate'].mean().sort_values(ascending=False)\n",
    "att\n"
   ]
  },
  {
   "cell_type": "code",
   "execution_count": null,
   "id": "5d0a4daf",
   "metadata": {},
   "outputs": [],
   "source": [
    "\n",
    "plt.figure()\n",
    "att.plot(kind='bar', title='Avg Attendance Rate by Event Type')\n",
    "plt.xlabel('Event Type')\n",
    "plt.ylabel('Attendance Rate')\n",
    "plt.show()\n"
   ]
  },
  {
   "cell_type": "markdown",
   "id": "71aa0f33",
   "metadata": {},
   "source": [
    "## 3. NPS by Campaign"
   ]
  },
  {
   "cell_type": "code",
   "execution_count": null,
   "id": "19d53dc7",
   "metadata": {},
   "outputs": [],
   "source": [
    "\n",
    "nps = events.groupby('campaign')['nps'].mean().sort_values(ascending=False)\n",
    "nps\n"
   ]
  },
  {
   "cell_type": "code",
   "execution_count": null,
   "id": "93d7f212",
   "metadata": {},
   "outputs": [],
   "source": [
    "\n",
    "plt.figure()\n",
    "nps.plot(kind='bar', title='Avg NPS by Campaign')\n",
    "plt.xlabel('Campaign')\n",
    "plt.ylabel('NPS')\n",
    "plt.show()\n"
   ]
  },
  {
   "cell_type": "markdown",
   "id": "dff0944e",
   "metadata": {},
   "source": [
    "## 4. Challenge Conversion Over Time"
   ]
  },
  {
   "cell_type": "code",
   "execution_count": null,
   "id": "4610977c",
   "metadata": {},
   "outputs": [],
   "source": [
    "\n",
    "challenges['ym'] = pd.to_datetime(challenges['month']).dt.to_period('M').astype(str)\n",
    "conv = challenges.groupby('ym')['conversion'].mean()\n",
    "conv\n"
   ]
  },
  {
   "cell_type": "code",
   "execution_count": null,
   "id": "02f20c9e",
   "metadata": {},
   "outputs": [],
   "source": [
    "\n",
    "plt.figure()\n",
    "conv.plot(title='Challenge Conversion Over Time')\n",
    "plt.xlabel('Year-Month')\n",
    "plt.ylabel('Conversion Rate')\n",
    "plt.show()\n"
   ]
  },
  {
   "cell_type": "markdown",
   "id": "105150f1",
   "metadata": {},
   "source": [
    "## 5. Top Courses by Completion"
   ]
  },
  {
   "cell_type": "code",
   "execution_count": null,
   "id": "78e49074",
   "metadata": {},
   "outputs": [],
   "source": [
    "\n",
    "top_courses = courses.sort_values('completion_rate', ascending=False).head(5)[['title','completion_rate','enrolled']]\n",
    "top_courses\n"
   ]
  },
  {
   "cell_type": "markdown",
   "id": "7da7b0a1",
   "metadata": {},
   "source": [
    "## 6. Top Contributors (Helpfulness)"
   ]
  },
  {
   "cell_type": "code",
   "execution_count": null,
   "id": "1d25d413",
   "metadata": {},
   "outputs": [],
   "source": [
    "\n",
    "top_contrib = contributors.sort_values(['helpful_flags','likes'], ascending=False).head(10)\n",
    "top_contrib\n"
   ]
  }
 ],
 "metadata": {},
 "nbformat": 4,
 "nbformat_minor": 5
}
