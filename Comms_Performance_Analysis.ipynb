{
 "cells": [
  {
   "cell_type": "markdown",
   "id": "3bb70342",
   "metadata": {},
   "source": [
    "# Community Communications Performance\n",
    "*Prepared: 2025-08-19*\n",
    "\n",
    "Evaluate engagement across channels, segments, and programs. Identify optimal send times and high-performing subjects."
   ]
  },
  {
   "cell_type": "markdown",
   "id": "719307b9",
   "metadata": {},
   "source": [
    "## 1. Load & Preview"
   ]
  },
  {
   "cell_type": "code",
   "execution_count": null,
   "id": "3b4065a2",
   "metadata": {},
   "outputs": [],
   "source": [
    "\n",
    "import pandas as pd\n",
    "import matplotlib.pyplot as plt\n",
    "\n",
    "df = pd.read_csv('comms_data.csv', parse_dates=['send_time'])\n",
    "df.head()\n"
   ]
  },
  {
   "cell_type": "markdown",
   "id": "2b64f059",
   "metadata": {},
   "source": [
    "## 2. KPI by Channel"
   ]
  },
  {
   "cell_type": "code",
   "execution_count": null,
   "id": "485a8078",
   "metadata": {},
   "outputs": [],
   "source": [
    "\n",
    "kpi_channel = df.groupby('channel')[['open_rate', 'ctr', 'reply_rate']].mean().sort_values('open_rate', ascending=False)\n",
    "kpi_channel\n"
   ]
  },
  {
   "cell_type": "code",
   "execution_count": null,
   "id": "52c9831e",
   "metadata": {},
   "outputs": [],
   "source": [
    "\n",
    "plt.figure()\n",
    "kpi_channel['open_rate'].plot(kind='bar', title='Avg Open Rate by Channel')\n",
    "plt.xlabel('Channel')\n",
    "plt.ylabel('Avg Open Rate')\n",
    "plt.show()\n"
   ]
  },
  {
   "cell_type": "markdown",
   "id": "26e14a33",
   "metadata": {},
   "source": [
    "## 3. Segment Lift"
   ]
  },
  {
   "cell_type": "code",
   "execution_count": null,
   "id": "59ba736f",
   "metadata": {},
   "outputs": [],
   "source": [
    "\n",
    "seg = df.groupby('segment')[['open_rate', 'ctr']].mean().sort_values('open_rate', ascending=False)\n",
    "seg\n"
   ]
  },
  {
   "cell_type": "code",
   "execution_count": null,
   "id": "a345c26c",
   "metadata": {},
   "outputs": [],
   "source": [
    "\n",
    "plt.figure()\n",
    "seg['ctr'].plot(kind='bar', title='Avg CTR by Segment')\n",
    "plt.xlabel('Segment')\n",
    "plt.ylabel('Avg CTR')\n",
    "plt.show()\n"
   ]
  },
  {
   "cell_type": "markdown",
   "id": "de685548",
   "metadata": {},
   "source": [
    "## 4. Program Performance by Channel"
   ]
  },
  {
   "cell_type": "code",
   "execution_count": null,
   "id": "ba3cad72",
   "metadata": {},
   "outputs": [],
   "source": [
    "\n",
    "prog = df.groupby(['program','channel'])[['open_rate','ctr','reply_rate']].mean().sort_values('ctr', ascending=False).head(10)\n",
    "prog\n"
   ]
  },
  {
   "cell_type": "markdown",
   "id": "c1f7c766",
   "metadata": {},
   "source": [
    "## 5. Day-of-Week Optimization"
   ]
  },
  {
   "cell_type": "code",
   "execution_count": null,
   "id": "d13acbe9",
   "metadata": {},
   "outputs": [],
   "source": [
    "\n",
    "df['dow'] = df['send_time'].dt.dayofweek\n",
    "dow = df.groupby('dow')[['open_rate','ctr']].mean()\n",
    "dow\n"
   ]
  },
  {
   "cell_type": "code",
   "execution_count": null,
   "id": "943db838",
   "metadata": {},
   "outputs": [],
   "source": [
    "\n",
    "plt.figure()\n",
    "dow['open_rate'].plot(title='Avg Open Rate by Day of Week')\n",
    "plt.xlabel('Day of Week (0=Mon)')\n",
    "plt.ylabel('Avg Open Rate')\n",
    "plt.show()\n"
   ]
  },
  {
   "cell_type": "markdown",
   "id": "05fc0605",
   "metadata": {},
   "source": [
    "## 6. Top Subjects by Engagement"
   ]
  },
  {
   "cell_type": "code",
   "execution_count": null,
   "id": "9d45c69d",
   "metadata": {},
   "outputs": [],
   "source": [
    "\n",
    "top_subjects = (df.groupby('subject')\n",
    "                  .agg(engagement_score=('open_rate', 'mean'))\n",
    "                  .sort_values('engagement_score', ascending=False).head(10))\n",
    "top_subjects\n"
   ]
  },
  {
   "cell_type": "markdown",
   "id": "c344d31f",
   "metadata": {},
   "source": [
    "## 7. Executive Takeaways"
   ]
  },
  {
   "cell_type": "code",
   "execution_count": null,
   "id": "07af9556",
   "metadata": {},
   "outputs": [],
   "source": [
    "\n",
    "summary = {\n",
    "    \"Best Channel (Open Rate)\": kpi_channel.index[0],\n",
    "    \"Best Segment (CTR)\": seg.sort_values('ctr', ascending=False).index[0],\n",
    "    \"Best DOW (Open Rate)\": dow['open_rate'].idxmax()\n",
    "}\n",
    "summary\n"
   ]
  }
 ],
 "metadata": {},
 "nbformat": 4,
 "nbformat_minor": 5
}
